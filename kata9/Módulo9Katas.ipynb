{
  "cells": [
    {
      "cell_type": "markdown",
      "metadata": {},
      "source": [
        "# Ejercicio: Uso de funciones en Python"
      ]
    },
    {
      "cell_type": "markdown",
      "metadata": {},
      "source": [
        "### Ejercicio 1: Trabajar con argumentos en funciones\n",
        "\n",
        "Los argumentos requeridos en las funciones se utilizan cuando las funciones necesitan que esos argumentos funcionen correctamente. En este ejercicio, construirás un informe de combustible que requiere información de varias ubicaciones de combustible en todo el cohete.\n",
        "\n"
      ]
    },
    {
      "cell_type": "markdown",
      "metadata": {},
      "source": [
        "> **TIP**\n",
        "> Dedica unos minutos para tratar de encontrar una solución. Luego desplázate hacia abajo hasta la parte inferior para ver si has logrado compilar el programa de acuerdo con las especificaciones\n",
        "\n",
        "Comienza por crear una función que necesite tres lecturas de combustible y devuelva un informe:"
      ]
    },
    {
      "cell_type": "code",
      "execution_count": 43,
      "metadata": {},
      "outputs": [],
      "source": [
        "# Función para leer 3 tanques de combustible y muestre el promedio\n",
        "def tank_fuel_report(tanks_fuel_reading):\n",
        "    fuel_sum = 0\n",
        "    for i, fuel_reading in enumerate(tanks_fuel_reading):\n",
        "        print(f\"Tank {i+1} has {fuel_reading} fuel left.\")\n",
        "        fuel_sum += fuel_reading\n",
        "    fuel_avg = fuel_sum/len(tanks_fuel_reading)\n",
        "    print(f\"The average fuel in the tanks is of {fuel_avg}\")\n",
        "\n",
        "#After seeing that the solution uses 3 parameters, I added this version\n",
        "def tank_fuel_report_3params(tank1, tank2, tank3):\n",
        "    fuel_sum = tank1+tank2+tank3\n",
        "    fuel_avg = fuel_sum/3\n",
        "    print(f\"\"\"Fuel tank Report.\n",
        "    -----------------------------------------\n",
        "    You have an average fuel of {fuel_avg} per tank.\"\"\")"
      ]
    },
    {
      "cell_type": "markdown",
      "metadata": {},
      "source": [
        "Ahora que hemos definido la función de informes, vamos a comprobarlo. Para esta misión, los tanques no están llenos:"
      ]
    },
    {
      "cell_type": "code",
      "execution_count": 44,
      "metadata": {},
      "outputs": [
        {
          "name": "stdout",
          "output_type": "stream",
          "text": [
            "Tank 1 has 53 fuel left.\n",
            "Tank 2 has 16 fuel left.\n",
            "Tank 3 has 27 fuel left.\n",
            "The average fuel in the tanks is of 32.0\n",
            "Fuel tank Report.\n",
            "    -----------------------------------------\n",
            "    You have an average fuel of 32.0 per tank.\n"
          ]
        }
      ],
      "source": [
        "# Llamamos a la función que genera el reporte print(funcion(tanque1, tanque2, tanque3))\n",
        "tank_fuel_report([53, 16, 27])\n",
        "\n",
        "#After seeing that solution uses 3 parameters.\n",
        "tank_fuel_report_3params(53, 16, 27)"
      ]
    },
    {
      "cell_type": "markdown",
      "metadata": {},
      "source": [
        "En lugar de simplemente crear el informe, la función también está calculando el promedio. Mejora la legibilidad extrayendo el cálculo promedio de la función en una nueva función para que el promedio se pueda hacer de forma independiente:"
      ]
    },
    {
      "cell_type": "code",
      "execution_count": 51,
      "metadata": {},
      "outputs": [],
      "source": [
        "# Función promedio \n",
        "def tank_fuel_average(tanks_fuel_readings):\n",
        "    fuel_sum = 0\n",
        "    for fuel in tanks_fuel_readings:\n",
        "        fuel_sum += fuel\n",
        "    fuel_avg = fuel_sum / len(tanks_fuel_readings)\n",
        "    return fuel_avg\n",
        "\n",
        "#After seeing that the solution used 3 functions, I added this\n",
        "def tank_fuel_avg_3params(tank1, tank2, tank3):\n",
        "    fuel_sum = tank1+tank2+tank3\n",
        "    fuel_avg = fuel_sum/3\n",
        "    return fuel_avg"
      ]
    },
    {
      "cell_type": "markdown",
      "metadata": {},
      "source": [
        "Ahora actualiza la función de informes para llamando a la nueva función del promedio:\n"
      ]
    },
    {
      "cell_type": "code",
      "execution_count": 55,
      "metadata": {},
      "outputs": [
        {
          "name": "stdout",
          "output_type": "stream",
          "text": [
            "Tank 1 has 145 fuel left\n",
            "Tank 2 has 286 fuel left\n",
            "Tank 3 has 123 fuel left\n",
            "Average fuel per tank is 184.66666666666666\n",
            "Average fuel per tank is 184.66666666666666.\n"
          ]
        }
      ],
      "source": [
        "# Actualiza la función\n",
        "def tank_fuel_report2(tanks):\n",
        "    tank_avg = tank_fuel_average(tanks)\n",
        "    for i, fuel in enumerate(tanks):\n",
        "        print(f\"Tank {i+1} has {fuel} fuel left\")\n",
        "    print(f\"Average fuel per tank is {tank_avg}\")\n",
        "\n",
        "tank_fuel_report2([145, 286, 123])\n",
        "\n",
        "#After seeing that the solution used 3 parameters\n",
        "def tank_fuel_report_3params(tank1,tank2,tank3):\n",
        "    tank_avg = tank_fuel_avg_3params(tank1,tank2,tank3)\n",
        "    print(f\"Average fuel per tank is {tank_avg}.\")\n",
        "\n",
        "tank_fuel_report_3params(145,286,123)"
      ]
    },
    {
      "cell_type": "markdown",
      "metadata": {},
      "source": [
        "> Recuerda: Lo importante es intentarlo, puedes auxiliarte de internet, libros, etc. El objetivo de una kata es la comprobación de la comprensión de la lección y su aplicación inmediata a la resolución de problemas. Go for it!"
      ]
    },
    {
      "cell_type": "markdown",
      "metadata": {},
      "source": [
        "## Ejercicio 2: Trabajo con argumentos de palabra clave"
      ]
    },
    {
      "cell_type": "markdown",
      "metadata": {},
      "source": [
        "### Ejercicio : Trabajar con argumentos de palabras clave en funciones\n",
        "En este ejercicio, construirás un informe de cohete que requiere varias piezas de información, como el tiempo hasta el destino, el combustible a la izquierda y el nombre del destino. Comienza por crear una función que creará un informe preciso de la misión:"
      ]
    },
    {
      "cell_type": "code",
      "execution_count": 22,
      "metadata": {},
      "outputs": [],
      "source": [
        "# Función con un informe preciso de la misión. Considera hora de prelanzamiento, tiempo de vuelo, destino, tanque externo y tanque interno\n",
        "def generate_mission_report(prelaunch_time, flight_duration, destination, external_tank, internal_tank):\n",
        "    print(f\"\"\"Time until arrival to our destination, \"{destination}\": {str(prelaunch_time+flight_duration)} minutes.\n",
        "    Total Fuel Remaining {str(external_tank+internal_tank)}.\n",
        "    External Tank Fuel Remaining: {external_tank}.\n",
        "    Internal Tank Fuel Remaining: {internal_tank}.\"\"\")"
      ]
    },
    {
      "cell_type": "markdown",
      "metadata": {},
      "source": [
        "La función es problemática porque no se puede adaptar para minutos adicionales o tanques adicionales de combustible. Hazlo más flexible permitiendo cualquier número de pasos basados en el tiempo y cualquier número de tanques. En lugar de usar `*args` y `**kwargs`, aprovecha el hecho de que puedes usar cualquier nombre que desees. Asegurate que la función sea más legible mediante el uso de nombres de variables que están asociados con las entradas, como `*minutes` y `**fuel_reservoirs`:"
      ]
    },
    {
      "cell_type": "code",
      "execution_count": 23,
      "metadata": {},
      "outputs": [],
      "source": [
        "# Escribe tu nueva función de reporte considerando lo anterior\n",
        "def gen_mission_report2(destination, *minutes, **fuel_reservoir):\n",
        "    time_sum = 0\n",
        "    for time_report in minutes:\n",
        "        time_sum += time_report\n",
        "    fuel_sum = 0\n",
        "    for fuel_value in fuel_reservoir.values():\n",
        "        fuel_sum += fuel_value\n",
        "    print(f\"\"\"Time until arrival to our destination, \"{destination}\": {time_sum} minutes.\n",
        "    Total Fuel Remaining: {fuel_value}.\"\"\")\n"
      ]
    },
    {
      "cell_type": "markdown",
      "metadata": {},
      "source": [
        "Debido a que el combustible que queda en los tanques es específico de cada tanque, actualiza la función para usar el nombre de cada tanque en el informe:"
      ]
    },
    {
      "cell_type": "code",
      "execution_count": 41,
      "metadata": {},
      "outputs": [
        {
          "name": "stdout",
          "output_type": "stream",
          "text": [
            "Time until arrival to our destination, \"Mars\": 500 minutes.\n",
            "    Total Fuel Remaining: 808.\n",
            " \"upper_tank\" Fuel Remaining: 50.\n",
            " \"internal_tank\" Fuel Remaining: 49.\n",
            " \"left_tank\" Fuel Remaining: 102.\n",
            " \"right_tank\" Fuel Remaining: 107.\n",
            " \"backup_tank\" Fuel Remaining: 500.\n",
            "Time until arrival to our destination, \"Mars\": 500 minutes.\n",
            " \"upper_tank\" Fuel Remaining: 50.\n",
            " \"internal_tank\" Fuel Remaining: 49.\n",
            " \"left_tank\" Fuel Remaining: 102.\n",
            " \"right_tank\" Fuel Remaining: 107.\n",
            " \"backup_tank\" Fuel Remaining: 500.\n",
            "Total Fuel Tank Remaining: 808\n"
          ]
        }
      ],
      "source": [
        "# Escribe tu nueva función\n",
        "def gen_mission_report2(destination, *minutes, **fuel_reservoir):\n",
        "    time_sum = 0\n",
        "    for time_report in minutes:\n",
        "        time_sum += time_report\n",
        "    fuel_sum = 0\n",
        "    for fuel_value in fuel_reservoir.values():\n",
        "        fuel_sum += fuel_value\n",
        "    print(f\"\"\"Time until arrival to our destination, \"{destination}\": {time_sum} minutes.\n",
        "    Total Fuel Remaining: {fuel_sum}.\"\"\")\n",
        "    for condition_name, condition_value in fuel_reservoir.items():\n",
        "        print(f\"\"\" \"{condition_name}\" Fuel Remaining: {condition_value}.\"\"\")\n",
        "\n",
        "#A bit more efficient alternative, moves total fuel calculation to the end.\n",
        "def gen_mission_report3(destination, *minutes, **fuel_reservoir):\n",
        "    time_sum = 0\n",
        "    for time_report in minutes:\n",
        "        time_sum += time_report\n",
        "    print(f\"\"\"Time until arrival to our destination, \"{destination}\": {time_sum} minutes.\"\"\")\n",
        "    fuel_sum = 0\n",
        "    for condition_name, condition_value in fuel_reservoir.items():\n",
        "        print(f\"\"\" \"{condition_name}\" Fuel Remaining: {condition_value}.\"\"\")\n",
        "        fuel_sum += condition_value\n",
        "    print(f\"Total Fuel Tank Remaining: {fuel_sum}\")\n",
        "\n",
        "#gen_mission_report2(\"Mars\", 130, 250, 120, upper_tank=50, internal_tank=49, left_tank=102, right_tank=107, backup_tank=500)\n",
        "gen_mission_report3(\"Mars\", 130, 250, 120, upper_tank=50, internal_tank=49, left_tank=102, right_tank=107, backup_tank=500)"
      ]
    },
    {
      "cell_type": "markdown",
      "metadata": {},
      "source": [
        "## Soluciones"
      ]
    },
    {
      "cell_type": "markdown",
      "metadata": {},
      "source": [
        "## Ejercicio 1"
      ]
    },
    {
      "cell_type": "code",
      "execution_count": null,
      "metadata": {},
      "outputs": [],
      "source": [
        "# Función para leer 3 tanques de combustible y muestre el promedio\n",
        "\n",
        "def generate_report(main_tank, external_tank, hydrogen_tank):\n",
        "    total_average = (main_tank + external_tank + hydrogen_tank) / 3\n",
        "    return f\"\"\"Fuel Report:\n",
        "    Total Average: {total_average}%\n",
        "    Main tank: {main_tank}%\n",
        "    External tank: {external_tank}%\n",
        "    Hydrogen tank: {hydrogen_tank}% \n",
        "    \"\"\"\n"
      ]
    },
    {
      "cell_type": "code",
      "execution_count": null,
      "metadata": {},
      "outputs": [],
      "source": [
        "# Llamamos a la función que genera el reporte print(funcion(tanque1, tanque2, tanque3))\n",
        "print(generate_report(80, 70, 85))"
      ]
    },
    {
      "cell_type": "code",
      "execution_count": null,
      "metadata": {},
      "outputs": [],
      "source": [
        "# Función promedio \n",
        "def average(values):\n",
        "    total = sum(values)\n",
        "    number_of_items = len(values)\n",
        "    return total / number_of_items\n",
        "\n",
        "# Test the averaging function with a list of integers:\n",
        "average([80, 85, 81]) "
      ]
    },
    {
      "cell_type": "code",
      "execution_count": null,
      "metadata": {},
      "outputs": [],
      "source": [
        "# Actualiza la función\n",
        "def generate_report(main_tank, external_tank, hydrogen_tank):\n",
        "    return f\"\"\"Fuel Report:\n",
        "    Total Average: {average([main_tank, external_tank, hydrogen_tank])}%\n",
        "    Main tank: {main_tank}%\n",
        "    External tank: {external_tank}%\n",
        "    Hydrogen tank: {hydrogen_tank}% \n",
        "    \"\"\"\n",
        "\n",
        "# Call the updated function again with different values\n",
        "print(generate_report(88, 76, 70))"
      ]
    },
    {
      "cell_type": "markdown",
      "metadata": {},
      "source": [
        "### Ejercicio 2:"
      ]
    },
    {
      "cell_type": "code",
      "execution_count": null,
      "metadata": {},
      "outputs": [],
      "source": [
        "# Función con un informe preciso de la misión. Considera hora de prelanzamiento, tiempo de vuelo, destino, tanque externo y tanque interno\n",
        "\n",
        "def mission_report(pre_launch_time, flight_time, destination, external_tank, main_tank):\n",
        "    return f\"\"\"\n",
        "    Mission to {destination}\n",
        "    Total travel time: {pre_launch_time + flight_time} minutes\n",
        "    Total fuel left: {external_tank + main_tank} gallons\n",
        "    \"\"\"\n",
        "\n",
        "print(mission_report(14, 51, \"Moon\", 200000, 300000))"
      ]
    },
    {
      "cell_type": "code",
      "execution_count": null,
      "metadata": {},
      "outputs": [],
      "source": [
        "# Escribe tu nueva función de reporte considerando lo anterior\n",
        "\n",
        "def mission_report(destination, *minutes, **fuel_reservoirs):\n",
        "    return f\"\"\"\n",
        "    Mission to {destination}\n",
        "    Total travel time: {sum(minutes)} minutes\n",
        "    Total fuel left: {sum(fuel_reservoirs.values())}\n",
        "    \"\"\"\n",
        "\n",
        "print(mission_report(\"Moon\", 10, 15, 51, main=300000, external=200000))"
      ]
    },
    {
      "cell_type": "code",
      "execution_count": null,
      "metadata": {},
      "outputs": [],
      "source": [
        "# Escribe tu nueva función\n",
        "\n",
        "def mission_report(destination, *minutes, **fuel_reservoirs):\n",
        "    main_report = f\"\"\"\n",
        "    Mission to {destination}\n",
        "    Total travel time: {sum(minutes)} minutes\n",
        "    Total fuel left: {sum(fuel_reservoirs.values())}\n",
        "    \"\"\"\n",
        "    for tank_name, gallons in fuel_reservoirs.items():\n",
        "        main_report += f\"{tank_name} tank --> {gallons} gallons left\\n\"\n",
        "    return main_report\n",
        "\n",
        "print(mission_report(\"Moon\", 8, 11, 55, main=300000, external=200000))"
      ]
    },
    {
      "cell_type": "markdown",
      "metadata": {},
      "source": [
        "---\n",
        "\n",
        "Curso Propedútico de Python para Launch X - Innovacción Virtual.\n",
        "\n",
        "Material desarrollado con base en los contenidos de MSLearn y la metáfora de LaunchX, traducción e implementación por: Fernanda Ochoa - Learning Producer de LaunchX.\n",
        "\n",
        "Redes:\n",
        "* GitHub: [FernandaOchoa](https://github.com/FernandaOchoa)\n",
        "* Twitter: [@imonsh](https://twitter.com/imonsh)\n",
        "* Instagram: [fherz8a](https://www.instagram.com/fherz8a/)"
      ]
    }
  ],
  "metadata": {
    "interpreter": {
      "hash": "205095b8b86ea82a021a8fc2ffba2b3bc9f8d0be25999901963b225939f75778"
    },
    "kernelspec": {
      "display_name": "Python 3.8.10 64-bit ('tmp': conda)",
      "name": "python3"
    },
    "language_info": {
      "codemirror_mode": {
        "name": "ipython",
        "version": 3
      },
      "file_extension": ".py",
      "mimetype": "text/x-python",
      "name": "python",
      "nbconvert_exporter": "python",
      "pygments_lexer": "ipython3",
      "version": "3.10.2"
    },
    "nteract": {
      "version": "nteract-front-end@1.0.0"
    },
    "orig_nbformat": 4
  },
  "nbformat": 4,
  "nbformat_minor": 2
}
